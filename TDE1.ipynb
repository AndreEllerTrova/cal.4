{
  "nbformat": 4,
  "nbformat_minor": 0,
  "metadata": {
    "colab": {
      "provenance": [],
      "authorship_tag": "ABX9TyNhqM5wxNrG4E4dr5R3RmmX",
      "include_colab_link": true
    },
    "kernelspec": {
      "name": "python3",
      "display_name": "Python 3"
    },
    "language_info": {
      "name": "python"
    }
  },
  "cells": [
    {
      "cell_type": "markdown",
      "metadata": {
        "id": "view-in-github",
        "colab_type": "text"
      },
      "source": [
        "<a href=\"https://colab.research.google.com/github/AndreEllerTrova/cal.4/blob/main/TDE1.ipynb\" target=\"_parent\"><img src=\"https://colab.research.google.com/assets/colab-badge.svg\" alt=\"Open In Colab\"/></a>"
      ]
    },
    {
      "cell_type": "code",
      "execution_count": null,
      "metadata": {
        "id": "FgLbdgXrGVzq"
      },
      "outputs": [],
      "source": []
    },
    {
      "cell_type": "markdown",
      "source": [
        "Trabalho TDE1\n",
        "\n",
        "## Modelo para o Jogo Pedra, Papel e Tesoura\n",
        "\n",
        "### Definição das Proposições\n",
        "Vamos definir as seguintes proposições para as escolhas dos jogadores:\n",
        "- $P1$: Jogador 1 escolhe Pedra\n",
        "- $PP1$: Jogador 1 escolhe Papel\n",
        "- $T1$: Jogador 1 escolhe Tesoura\n",
        "- $P2$: Jogador 2 escolhe Pedra\n",
        "- $PP2$: Jogador 2 escolhe Papel\n",
        "- $T2$: Jogador 2 escolhe Tesoura\n",
        "\n",
        "### Regras do Jogo\n",
        "\n",
        "#### Empate\n",
        "O jogo resulta em empate se ambos os jogadores fizerem a mesma escolha:\n",
        "- $E1$: $P1 \\land P2$ (Ambos escolhem Pedra)\n",
        "- $E2$: $PP1 \\land PP2$ (Ambos escolhem Papel)\n",
        "- $E3$: $T1 \\land T2$ (Ambos escolhem Tesoura)\n",
        "\n",
        "A regra geral para o empate é:\n",
        "$$\\text{Empate} = E1 \\lor E2 \\lor E3$$\n",
        "\n",
        "#### Vitória do Jogador 1\n",
        "Jogador 1 vence se:\n",
        "- $V1_1$: $P1 \\land T2$ (Jogador 1 escolhe Pedra e Jogador 2 escolhe Tesoura)\n",
        "- $V1_2$: $PP1 \\land P2$ (Jogador 1 escolhe Papel e Jogador 2 escolhe Pedra)\n",
        "- $V1_3$: $T1 \\land PP2$ (Jogador 1 escolhe Tesoura e Jogador 2 escolhe Papel)\n",
        "\n",
        "A regra geral para a vitória do Jogador 1 é:\n",
        "$$V1 = V1_1 \\lor V1_2 \\lor V1_3$$\n",
        "\n",
        "#### Vitória do Jogador 2\n",
        "Jogador 2 vence se:\n",
        "- $V2_1$: $T1 \\land P2$ (Jogador 1 escolhe Tesoura e Jogador 2 escolhe Pedra)\n",
        "- $V2_2$: $P1 \\land PP2$ (Jogador 1 escolhe Pedra e Jogador 2 escolhe Papel)\n",
        "- $V2_3$: $PP1 \\land T2$ (Jogador 1 escolhe Papel e Jogador 2 escolhe Tesoura)\n",
        "\n",
        "A regra geral para a vitória do Jogador 2 é:\n",
        "$$V2 = V2_1 \\lor V2_2 \\lor V2_3$$\n",
        "\n",
        "### Modelo Completo\n",
        "O modelo completo para o jogo Pedra, Papel e Tesoura pode ser expresso como:\n",
        "$$\\text{Resultado} = \\text{Empate} \\lor V1 \\lor V2$$\n",
        "onde:\n",
        "- $\\text{Empate}$ define as condições de empate.\n",
        "- $V1$ define as condições de vitória para o Jogador 1.\n",
        "- $V2$ define as condições de vitória para o Jogador 2.\n",
        "\n",
        "\n",
        "\n",
        "## Modelo para Definição de uma Família  \n",
        "\n",
        "### Definição das Proposições\n",
        "Vamos definir as seguintes proposições para as relações familiares:\n",
        "- $M1(x, y)$: $x$ é mãe de $y$\n",
        "- $P1(x, y)$: $x$ é pai de $y$\n",
        "- $Irm(x, y)$: $x$ e $y$ são irmãos\n",
        "- $MeioIrm(x, y)$: $x$ e $y$ são meios-irmãos\n",
        "\n",
        "### Regras para Definição de Relações Familiares\n",
        "\n",
        "#### Relação de Irmãos\n",
        "Dois indivíduos $x$ e $y$ são irmãos se eles compartilham o mesmo pai e a mesma mãe:\n",
        "$$Irm(x, y) = (M1(m, x) \\land M1(m, y)) \\land (P1(p, x) \\land P1(p, y))$$\n",
        "onde $m$ representa a mãe e $p$ representa o pai.\n",
        "\n",
        "#### Relação de Meios-Irmãos\n",
        "Dois indivíduos $x$ e $y$ são meios-irmãos se:\n",
        "- Eles compartilham o mesmo pai, mas têm mães diferentes:\n",
        "$$MeioIrm(x, y) = (P1(p, x) \\land P1(p, y)) \\land (M1(m1, x) \\land M1(m2, y) \\land m1 \\neq m2)$$\n",
        "ou\n",
        "- Eles compartilham a mesma mãe, mas têm pais diferentes:\n",
        "$$MeioIrm(x, y) = (M1(m, x) \\land M1(m, y)) \\land (P1(p1, x) \\land P1(p2, y) \\land p1 \\neq p2)$$\n",
        "\n"
      ],
      "metadata": {
        "id": "r3dnd4ujGbNU"
      }
    }
  ]
}